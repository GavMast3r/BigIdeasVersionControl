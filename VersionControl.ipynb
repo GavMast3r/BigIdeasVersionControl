{
 "cells": [],
 "metadata": {},
 "nbformat": 4,
 "nbformat_minor": 4
}
s = 4
print(s)
