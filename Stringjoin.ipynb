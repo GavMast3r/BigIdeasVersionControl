{
 "cells": [
  {
   "cell_type": "code",
   "execution_count": 6,
   "metadata": {},
   "outputs": [
    {
     "name": "stdin",
     "output_type": "stream",
     "text": [
      "input your name Gavin\n",
      "input second string Corn\n"
     ]
    },
    {
     "name": "stdout",
     "output_type": "stream",
     "text": [
      "GavinCorn\n"
     ]
    }
   ],
   "source": [
    "class Stringjoin:\n",
    "    def joinstrings():\n",
    "        i = input(\"input your name\")\n",
    "        k = input(\"input second string\")\n",
    "        i += k\n",
    "        print(i)\n",
    "    joinstrings()"
   ]
  },
  {
   "cell_type": "code",
   "execution_count": null,
   "metadata": {},
   "outputs": [],
   "source": []
  }
 ],
 "metadata": {
  "kernelspec": {
   "display_name": "Python 3",
   "language": "python",
   "name": "python3"
  },
  "language_info": {
   "codemirror_mode": {
    "name": "ipython",
    "version": 3
   },
   "file_extension": ".py",
   "mimetype": "text/x-python",
   "name": "python",
   "nbconvert_exporter": "python",
   "pygments_lexer": "ipython3",
   "version": "3.8.3"
  }
 },
 "nbformat": 4,
 "nbformat_minor": 4
}
