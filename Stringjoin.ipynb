{
 "cells": [
  {
   "cell_type": "code",
   "execution_count": 18,
   "metadata": {},
   "outputs": [
    {
     "name": "stdin",
     "output_type": "stream",
     "text": [
      "input your name es\n",
      "input second string no\n"
     ]
    },
    {
     "name": "stdout",
     "output_type": "stream",
     "text": [
      "The total number of letters in your combined string is 4\n",
      "esnoway\n"
     ]
    }
   ],
   "source": [
    "class Stringjoin:\n",
    "    def joinstrings():\n",
    "        print('I didn't have time to)\n",
    "        i = input(\"input your name\")\n",
    "        k = input(\"input second string\")\n",
    "        \n",
    "        i += k\n",
    "        sum = 0\n",
    "        for s in i:\n",
    "            sum += 1\n",
    "        print(\"The total number of letters in your combined string is \" + str(sum))\n",
    "        \n",
    "        if(i[0: 1] == \"a\" or i[0: 1] == \"o\" or i[0: 1] == \"u\" or i[0: 1] == \"e\" or i[0: 1] == \"i\"):\n",
    "        \n",
    "            i += \"way\"\n",
    "        \n",
    "        elif(not(i[0: 1] == \"a\" or i[0: 1] == \"o\" or i[0: 1] == \"u\" or i[0: 1] == \"e\" or i[0: 1] == \"i\")):\n",
    "            if(i[1: 2] == \"a\" or i[1: 2] == \"o\" or i[1: 2] == \"u\" or i[1: 2] == \"e\" or i[1: 2] == \"i\"):\n",
    "                m = i[len(i) - 2: len(i) -1] + \"ay\"\n",
    "                i += m\n",
    "        else:\n",
    "            n = i[0:1] + i[1:2]\n",
    "            i += n\n",
    "            i += \"ay\"\n",
    "            \n",
    "        print(i)\n",
    "    joinstrings()"
   ]
  },
  {
   "cell_type": "code",
   "execution_count": null,
   "metadata": {},
   "outputs": [],
   "source": []
  }
 ],
 "metadata": {
  "kernelspec": {
   "display_name": "Python 3",
   "language": "python",
   "name": "python3"
  },
  "language_info": {
   "codemirror_mode": {
    "name": "ipython",
    "version": 3
   },
   "file_extension": ".py",
   "mimetype": "text/x-python",
   "name": "python",
   "nbconvert_exporter": "python",
   "pygments_lexer": "ipython3",
   "version": "3.8.3"
  }
 },
 "nbformat": 4,
 "nbformat_minor": 4
}
